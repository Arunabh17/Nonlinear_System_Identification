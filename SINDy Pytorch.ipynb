{
 "cells": [
  {
   "cell_type": "code",
   "execution_count": 1,
   "id": "63729049",
   "metadata": {},
   "outputs": [],
   "source": [
    "import os\n",
    "\n",
    "import numpy as np\n",
    "import pysindy as ps\n",
    "\n",
    "import torch\n",
    "from torch import nn\n",
    "from torch.utils.data import DataLoader\n",
    "import torch.optim as optim\n",
    "import torch.nn.functional as F\n",
    "from torchvision import datasets, transforms\n",
    "from torch.optim.lr_scheduler import ReduceLROnPlateau\n",
    "\n",
    "\n",
    "import matplotlib.pyplot as plt\n",
    "from mpl_toolkits.mplot3d import Axes3D\n",
    "\n",
    "from sklearn.metrics import mean_squared_error\n",
    "from sklearn.model_selection import train_test_split\n",
    "\n",
    "import utils"
   ]
  },
  {
   "cell_type": "code",
   "execution_count": 2,
   "id": "c4b16095",
   "metadata": {},
   "outputs": [],
   "source": [
    "dataset_folder = \"D:/Robotics/neural-fly-main/neural-fly-main/data/experiment\"\n",
    "\n",
    "features1 = ['v']\n",
    "RawData1 = utils.load_data(dataset_folder)\n",
    "Data1 = utils.format_data(RawData1, features=features1)"
   ]
  },
  {
   "cell_type": "code",
   "execution_count": 114,
   "id": "5c5af7bf",
   "metadata": {},
   "outputs": [],
   "source": [
    "v = torch.zeros((2511,3)) #first input feature\n",
    "for row in range(len(v)):\n",
    "    for column in range(3):\n",
    "        v[row][column] = Data1[21][0][row][column]\n",
    "        \n",
    "v.requires_grad = True"
   ]
  },
  {
   "cell_type": "code",
   "execution_count": 115,
   "id": "aadf8627",
   "metadata": {},
   "outputs": [],
   "source": [
    "features2 = ['T_sp']\n",
    "\n",
    "Data2 = utils.format_data(RawData1, features=features2)\n",
    "\n",
    "fu = torch.zeros((2511,3))\n",
    "for row in range(len(fu)):\n",
    "    fu[row][2] = Data2[21][0][row][0]\n",
    "    \n",
    "R = torch.zeros((2511,3,3))\n",
    "features3 = ['R']\n",
    "\n",
    "Data3 = utils.format_data(RawData1, features=features3)\n",
    "\n",
    "for matrix in range(len(R)):\n",
    "    for row in range(3):\n",
    "        for column in range(3):\n",
    "            R[matrix][row][column] = Data3[21][0][matrix][row][column]\n",
    "            \n",
    "Rfu = torch.zeros((2511,3)) #second input feature\n",
    "for row in range(len(Rfu)):\n",
    "    Rfu[row] = np.matmul(R[row],fu[row])\n",
    "Rfu.shape\n",
    "Rfu.requires_grad = True"
   ]
  },
  {
   "cell_type": "code",
   "execution_count": 116,
   "id": "6f0db72b",
   "metadata": {},
   "outputs": [],
   "source": [
    "acc = torch.zeros((2511,3)) # actual acceleration\n",
    "for ele in range(2510):\n",
    "    acc[ele] = (v[ele+1]-v[ele])/0.02\n",
    "acc[2510] = acc[2509]"
   ]
  },
  {
   "cell_type": "code",
   "execution_count": 117,
   "id": "46b5fb81",
   "metadata": {},
   "outputs": [],
   "source": [
    "class Regression(nn.Module):\n",
    "    def __init__(self, input_size, output_size):\n",
    "        super(Regression, self).__init__()\n",
    "        self.linear1 = nn.Linear(input_size, 8)\n",
    "        self.relu1 = nn.ReLU()\n",
    "        self.linear2 = nn.Linear(8, 16)\n",
    "        self.relu2 = nn.ReLU()\n",
    "        self.linear3 = nn.Linear(16, 24)\n",
    "        self.relu3 = nn.ReLU()\n",
    "        self.linear4 = nn.Linear(24, 8)\n",
    "        self.relu4 = nn.ReLU()\n",
    "        self.linear5 = nn.Linear(8, output_size)\n",
    "    \n",
    "    def forward(self, x):\n",
    "        out = x\n",
    "        out = out.unsqueeze(1)\n",
    "        out = self.linear1(out)\n",
    "        out = self.relu1(out)\n",
    "        out = self.linear2(out)\n",
    "        out = self.relu2(out)\n",
    "        out = self.linear3(out)\n",
    "        out = self.relu3(out)\n",
    "        out = self.linear4(out)\n",
    "        out = self.relu4(out)\n",
    "        out = self.linear5(out)\n",
    "        return out\n",
    "    \n",
    "def init_weights(m):\n",
    "    if isinstance(m, nn.Linear):\n",
    "        nn.init.xavier_uniform_(m.weight.data)\n",
    "        nn.init.zeros_(m.bias.data)\n",
    "    \n",
    "model = Regression(1,2)\n",
    "\n",
    "model.apply(init_weights)\n",
    "\n",
    "criterion = nn.MSELoss()\n",
    "optimizer = optim.Adam(model.parameters(), lr=0.01)"
   ]
  },
  {
   "cell_type": "code",
   "execution_count": 96,
   "id": "2cc8ca1c",
   "metadata": {},
   "outputs": [
    {
     "data": {
      "text/plain": [
       "torch.Size([2511, 12])"
      ]
     },
     "execution_count": 96,
     "metadata": {},
     "output_type": "execute_result"
    }
   ],
   "source": [
    "f1 = model(v[:,0])[:,0]\n",
    "f2 = model(v[:,1])[:,0]\n",
    "f3 = model(v[:,2])[:,0]\n",
    "f4 = model(v[:,0])[:,1]\n",
    "f5 = model(v[:,1])[:,1]\n",
    "f6 = model(v[:,2])[:,1]\n",
    "f7 = model(Rfu[:,0])[:,0]\n",
    "f8 = model(Rfu[:,1])[:,0]\n",
    "f9 = model(Rfu[:,2])[:,0]\n",
    "f10 = model(Rfu[:,0])[:,1]\n",
    "f11 = model(Rfu[:,1])[:,1]\n",
    "f12 = model(Rfu[:,2])[:,1]\n",
    "feature = torch.cat((f1.unsqueeze(1), f2.unsqueeze(1), f3.unsqueeze(1), f4.unsqueeze(1), f5.unsqueeze(1), f6.unsqueeze(1), f7.unsqueeze(1), f8.unsqueeze(1), f9.unsqueeze(1), f10.unsqueeze(1), f11.unsqueeze(1), f12.unsqueeze(1)), dim=1)\n",
    "feature.shape"
   ]
  },
  {
   "cell_type": "code",
   "execution_count": 97,
   "id": "39f79000",
   "metadata": {},
   "outputs": [
    {
     "data": {
      "text/plain": [
       "torch.Size([12, 3])"
      ]
     },
     "execution_count": 97,
     "metadata": {},
     "output_type": "execute_result"
    }
   ],
   "source": [
    "E = torch.randn(12, 3)\n",
    "E.requires_grad = True\n",
    "E.shape"
   ]
  },
  {
   "cell_type": "code",
   "execution_count": 98,
   "id": "4afee37a",
   "metadata": {},
   "outputs": [
    {
     "data": {
      "text/plain": [
       "True"
      ]
     },
     "execution_count": 98,
     "metadata": {},
     "output_type": "execute_result"
    }
   ],
   "source": [
    "y = torch.matmul(feature, E)\n",
    "y.requires_grad"
   ]
  },
  {
   "cell_type": "code",
   "execution_count": 99,
   "id": "ba532347",
   "metadata": {},
   "outputs": [
    {
     "data": {
      "text/plain": [
       "tensor(22.1757, grad_fn=<AddBackward0>)"
      ]
     },
     "execution_count": 99,
     "metadata": {},
     "output_type": "execute_result"
    }
   ],
   "source": [
    "loss = criterion(acc,y) + torch.sum(torch.abs(E))\n",
    "loss"
   ]
  },
  {
   "cell_type": "code",
   "execution_count": 100,
   "id": "145dba5f",
   "metadata": {},
   "outputs": [
    {
     "data": {
      "text/plain": [
       "tensor(20.6393, grad_fn=<SumBackward0>)"
      ]
     },
     "execution_count": 100,
     "metadata": {},
     "output_type": "execute_result"
    }
   ],
   "source": [
    "torch.sum(torch.abs(E))"
   ]
  },
  {
   "cell_type": "code",
   "execution_count": 29,
   "id": "0fcbf7c0",
   "metadata": {},
   "outputs": [],
   "source": [
    "loss.backward()"
   ]
  },
  {
   "cell_type": "code",
   "execution_count": 30,
   "id": "bb367c1b",
   "metadata": {},
   "outputs": [
    {
     "data": {
      "text/plain": [
       "tensor([[ 1.0279, -1.0300, -1.0067],\n",
       "        [ 1.0006, -1.0004,  0.9998],\n",
       "        [-0.9743, -1.0542,  0.9828],\n",
       "        [-1.1015,  1.1133,  1.0537],\n",
       "        [ 0.9987, -0.9986, -0.9979],\n",
       "        [-1.1888,  1.1184,  1.1395],\n",
       "        [-0.9987, -1.0040, -1.0064],\n",
       "        [-0.9993, -1.0006,  0.9991],\n",
       "        [-0.9567,  0.9653,  0.9431],\n",
       "        [ 0.9979, -0.9937,  1.0100],\n",
       "        [-1.0011, -0.9990,  1.0015],\n",
       "        [-1.0685,  1.0549, -0.9100]])"
      ]
     },
     "execution_count": 30,
     "metadata": {},
     "output_type": "execute_result"
    }
   ],
   "source": [
    "E.grad"
   ]
  },
  {
   "cell_type": "code",
   "execution_count": 31,
   "id": "1da39a59",
   "metadata": {},
   "outputs": [],
   "source": [
    "optimizer2 = torch.optim.SGD([E], lr=0.1)\n",
    "optimizer2.step()\n",
    "optimizer2.zero_grad()"
   ]
  },
  {
   "cell_type": "code",
   "execution_count": 32,
   "id": "489f7dbb",
   "metadata": {},
   "outputs": [
    {
     "name": "stdout",
     "output_type": "stream",
     "text": [
      "None\n"
     ]
    }
   ],
   "source": [
    "print(E.grad)"
   ]
  },
  {
   "cell_type": "code",
   "execution_count": 33,
   "id": "a969c273",
   "metadata": {},
   "outputs": [],
   "source": [
    "optimizer.step()"
   ]
  },
  {
   "cell_type": "code",
   "execution_count": 34,
   "id": "7e505b06",
   "metadata": {},
   "outputs": [],
   "source": [
    "# for name, param in model.named_parameters():\n",
    "#     if param.requires_grad:\n",
    "#         print(name, param.grad)\n"
   ]
  },
  {
   "cell_type": "code",
   "execution_count": 118,
   "id": "e76091c9",
   "metadata": {},
   "outputs": [
    {
     "name": "stdout",
     "output_type": "stream",
     "text": [
      "Epoch [10/150], Loss: 0.0006\n",
      "Epoch [20/150], Loss: 0.0006\n",
      "Epoch [30/150], Loss: 0.0006\n",
      "Epoch [40/150], Loss: 0.0005\n",
      "Epoch [50/150], Loss: 0.0003\n",
      "Epoch [60/150], Loss: 0.0002\n",
      "Epoch [70/150], Loss: 0.0001\n",
      "Epoch [80/150], Loss: 0.0001\n",
      "Epoch [90/150], Loss: 0.0001\n",
      "Epoch [100/150], Loss: 0.0001\n",
      "Epoch [110/150], Loss: 0.0001\n",
      "Epoch [120/150], Loss: 0.0001\n",
      "Epoch [130/150], Loss: 0.0001\n",
      "Epoch [140/150], Loss: 0.0001\n",
      "Epoch [150/150], Loss: 0.0001\n"
     ]
    }
   ],
   "source": [
    "loss_history = []\n",
    "num_epochs = 150\n",
    "\n",
    "E = torch.randn(12, 3)\n",
    "E.requires_grad = True\n",
    "optimizer2 = torch.optim.Adam([E], lr=0.01)\n",
    "\n",
    "for epoch in range(num_epochs):\n",
    "    loss = 0\n",
    "    optimizer.zero_grad()  # move optimizer zero_grad() outside the inner loop\n",
    "    optimizer2.zero_grad()\n",
    "    \n",
    "    f1 = model(v[:,0])[:,0]\n",
    "    f2 = model(v[:,1])[:,0]\n",
    "    f3 = model(v[:,2])[:,0]\n",
    "    f4 = model(v[:,0])[:,1]\n",
    "    f5 = model(v[:,1])[:,1]\n",
    "    f6 = model(v[:,2])[:,1]\n",
    "    f7 = model(Rfu[:,0])[:,0]\n",
    "    f8 = model(Rfu[:,1])[:,0]\n",
    "    f9 = model(Rfu[:,2])[:,0]\n",
    "    f10 = model(Rfu[:,0])[:,1]\n",
    "    f11 = model(Rfu[:,1])[:,1]\n",
    "    f12 = model(Rfu[:,2])[:,1]\n",
    "    feature = torch.cat((f1.unsqueeze(1), f2.unsqueeze(1), f3.unsqueeze(1), f4.unsqueeze(1), f5.unsqueeze(1), f6.unsqueeze(1), f7.unsqueeze(1), f8.unsqueeze(1), f9.unsqueeze(1), f10.unsqueeze(1), f11.unsqueeze(1), f12.unsqueeze(1)), dim=1)\n",
    "\n",
    "    #lasso_term = sum([torch.sum(torch.abs(param)) for param in model.parameters()])\n",
    "    \n",
    "    y = torch.matmul(feature, E)\n",
    "    loss = criterion(acc,y)\n",
    "     \n",
    "    loss.backward(retain_graph = True)\n",
    "    \n",
    "    optimizer.step()  # move optimizer step() outside the inner loop\n",
    "    optimizer2.step()\n",
    "    loss /= len(v)\n",
    "    loss_history.append(loss)\n",
    "    #scheduler.step(loss)\n",
    "    if (epoch+1) % 10 == 0:\n",
    "        print(f\"Epoch [{epoch+1}/{num_epochs}], Loss: {loss:.4f}\")\n"
   ]
  },
  {
   "cell_type": "code",
   "execution_count": 119,
   "id": "3e702a4b",
   "metadata": {},
   "outputs": [
    {
     "data": {
      "text/plain": [
       "tensor([[-1.4976e-01, -1.7963e-03,  2.3738e-02],\n",
       "        [-3.2129e-01, -4.9150e-01, -9.3227e-03],\n",
       "        [-1.7382e-02,  1.2501e-02, -4.3612e-02],\n",
       "        [ 4.8687e-01,  9.9511e-03, -1.1475e+00],\n",
       "        [-4.6508e-01,  1.1256e+00, -6.6169e-01],\n",
       "        [-2.2447e-01, -7.0069e-03, -1.5939e-01],\n",
       "        [ 1.8956e+00,  2.3796e-02,  1.5251e-02],\n",
       "        [-1.2857e+00,  1.1332e+00,  2.2844e-02],\n",
       "        [-3.8741e-02,  1.9714e-02, -1.7747e+00],\n",
       "        [ 8.5172e-01, -6.2340e-01, -9.7513e-01],\n",
       "        [ 2.7806e-01, -5.7318e-01, -7.9620e-01],\n",
       "        [ 3.0454e-01, -4.7603e-01,  2.3996e-01]], requires_grad=True)"
      ]
     },
     "execution_count": 119,
     "metadata": {},
     "output_type": "execute_result"
    }
   ],
   "source": [
    "E"
   ]
  },
  {
   "cell_type": "code",
   "execution_count": 120,
   "id": "d6644108",
   "metadata": {},
   "outputs": [
    {
     "data": {
      "text/plain": [
       "tensor([[0.0000, 0.0000, 0.0237],\n",
       "        [0.0000, 0.0000, 0.0000],\n",
       "        [0.0000, 0.0125, 0.0000],\n",
       "        [0.4869, 0.0100, 0.0000],\n",
       "        [0.0000, 1.1256, 0.0000],\n",
       "        [0.0000, 0.0000, 0.0000],\n",
       "        [1.8956, 0.0238, 0.0153],\n",
       "        [0.0000, 1.1332, 0.0228],\n",
       "        [0.0000, 0.0197, 0.0000],\n",
       "        [0.8517, 0.0000, 0.0000],\n",
       "        [0.2781, 0.0000, 0.0000],\n",
       "        [0.3045, 0.0000, 0.2400]])"
      ]
     },
     "execution_count": 120,
     "metadata": {},
     "output_type": "execute_result"
    }
   ],
   "source": [
    "threshold = 1e-4\n",
    "E = E.detach()\n",
    "E[E<threshold] = 0\n",
    "E"
   ]
  },
  {
   "cell_type": "code",
   "execution_count": 121,
   "id": "90856436",
   "metadata": {},
   "outputs": [
    {
     "data": {
      "text/plain": [
       "[<matplotlib.lines.Line2D at 0x1630357be50>]"
      ]
     },
     "execution_count": 121,
     "metadata": {},
     "output_type": "execute_result"
    },
    {
     "data": {
      "image/png": "[encoded data removed]",
      "text/plain": [
       "<Figure size 640x480 with 1 Axes>"
      ]
     },
     "metadata": {},
     "output_type": "display_data"
    }
   ],
   "source": [
    "loss_history = np.array([tensor.item() for tensor in loss_history])\n",
    "plt.plot(loss_history)"
   ]
  },
  {
   "cell_type": "code",
   "execution_count": 122,
   "id": "c4cf6d86",
   "metadata": {},
   "outputs": [],
   "source": [
    "f1 = model(v[:,0])[:,0]\n",
    "f2 = model(v[:,1])[:,0]\n",
    "f3 = model(v[:,2])[:,0]\n",
    "f4 = model(v[:,0])[:,1]\n",
    "f5 = model(v[:,1])[:,1]\n",
    "f6 = model(v[:,2])[:,1]\n",
    "f7 = model(Rfu[:,0])[:,0]\n",
    "f8 = model(Rfu[:,1])[:,0]\n",
    "f9 = model(Rfu[:,2])[:,0]\n",
    "f10 = model(Rfu[:,0])[:,1]\n",
    "f11 = model(Rfu[:,1])[:,1]\n",
    "f12 = model(Rfu[:,2])[:,1]\n",
    "feature = torch.cat((f1.unsqueeze(1), f2.unsqueeze(1), f3.unsqueeze(1), f4.unsqueeze(1), f5.unsqueeze(1), f6.unsqueeze(1), f7.unsqueeze(1), f8.unsqueeze(1), f9.unsqueeze(1), f10.unsqueeze(1), f11.unsqueeze(1), f12.unsqueeze(1)), dim=1)\n",
    "\n",
    "y = torch.matmul(feature, E)"
   ]
  },
  {
   "cell_type": "code",
   "execution_count": 123,
   "id": "ec9b96f1",
   "metadata": {},
   "outputs": [],
   "source": [
    "y = y.detach().numpy()\n"
   ]
  },
  {
   "cell_type": "code",
   "execution_count": 124,
   "id": "b38c6a7c",
   "metadata": {},
   "outputs": [],
   "source": [
    "acc = acc.detach().numpy()"
   ]
  },
  {
   "cell_type": "code",
   "execution_count": 130,
   "id": "46250144",
   "metadata": {},
   "outputs": [
    {
     "data": {
      "text/plain": [
       "[<matplotlib.lines.Line2D at 0x16303b15be0>]"
      ]
     },
     "execution_count": 130,
     "metadata": {},
     "output_type": "execute_result"
    },
    {
     "data": {
      "image/png": "[encoded data removed]",
      "text/plain": [
       "<Figure size 640x480 with 1 Axes>"
      ]
     },
     "metadata": {},
     "output_type": "display_data"
    }
   ],
   "source": [
    "plt.plot(acc[:,2])\n",
    "plt.plot(y[:,2])"
   ]
  },
  {
   "cell_type": "code",
   "execution_count": 68,
   "id": "9eacbfb7",
   "metadata": {},
   "outputs": [
    {
     "data": {
      "text/plain": [
       "array([[-0.001591  , -0.00020916, -0.00043068],\n",
       "       [-0.0015486 , -0.00027268, -0.00033662],\n",
       "       [-0.00156784, -0.00014729, -0.00040521],\n",
       "       ...,\n",
       "       [-0.0019428 ,  0.00028066,  0.00033704],\n",
       "       [-0.00201681,  0.00033237,  0.00038207],\n",
       "       [-0.00212075,  0.00041848,  0.000434  ]], dtype=float32)"
      ]
     },
     "execution_count": 68,
     "metadata": {},
     "output_type": "execute_result"
    }
   ],
   "source": [
    "y"
   ]
  },
  {
   "cell_type": "code",
   "execution_count": null,
   "id": "66427ca7",
   "metadata": {},
   "outputs": [],
   "source": []
  }
 ],
 "metadata": {
  "kernelspec": {
   "display_name": "Python 3 (ipykernel)",
   "language": "python",
   "name": "python3"
  },
  "language_info": {
   "codemirror_mode": {
    "name": "ipython",
    "version": 3
   },
   "file_extension": ".py",
   "mimetype": "text/x-python",
   "name": "python",
   "nbconvert_exporter": "python",
   "pygments_lexer": "ipython3",
   "version": "3.9.13"
  }
 },
 "nbformat": 4,
 "nbformat_minor": 5
}
